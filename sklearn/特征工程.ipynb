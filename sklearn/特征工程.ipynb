{
 "cells": [
  {
   "cell_type": "markdown",
   "id": "ed33c68c",
   "metadata": {},
   "source": [
    "### 数据集划分"
   ]
  },
  {
   "cell_type": "code",
   "execution_count": 49,
   "id": "447807d6",
   "metadata": {},
   "outputs": [],
   "source": [
    "from sklearn.datasets import load_iris\n",
    "from sklearn.model_selection import train_test_split\n",
    "\n",
    "def dataset_demo():\n",
    "    iris = load_iris()\n",
    "    #print(\"数据集返回值：\\n\", iris)\n",
    "    #print(\"特征值：\\n\", iris[\"DESCR\"])\n",
    "#     print(iris.feature_names)\n",
    "#     print(iris.data, iris.data.shape)\n",
    "    \n",
    "#     print(\"鸢尾花的目标值：\\n\", iris.target)\n",
    "#     print(\"鸢尾花特征的名字：\\n\", iris.feature_names)\n",
    "#     print(\"鸢尾花目标值的名字：\\n\", iris.target_names)\n",
    "#     print(\"鸢尾花的描述：\\n\", iris.DESCR)\n",
    "    \n",
    "    #数据集划分\n",
    "    x_train, x_test, y_train, y_test = train_test_split(iris.data, iris.target, test_size = 0.2, random_state = 22)\n",
    "    print(x_train)\n",
    "    print(x_train.shape)"
   ]
  },
  {
   "cell_type": "code",
   "execution_count": 50,
   "id": "68af1710",
   "metadata": {},
   "outputs": [
    {
     "name": "stdout",
     "output_type": "stream",
     "text": [
      "[[4.8 3.1 1.6 0.2]\n",
      " [5.4 3.4 1.5 0.4]\n",
      " [5.5 2.5 4.  1.3]\n",
      " [5.5 2.6 4.4 1.2]\n",
      " [5.7 2.8 4.5 1.3]\n",
      " [5.  3.4 1.6 0.4]\n",
      " [5.1 3.4 1.5 0.2]\n",
      " [4.9 3.6 1.4 0.1]\n",
      " [6.9 3.1 5.4 2.1]\n",
      " [6.7 2.5 5.8 1.8]\n",
      " [7.  3.2 4.7 1.4]\n",
      " [6.3 3.3 4.7 1.6]\n",
      " [5.4 3.9 1.3 0.4]\n",
      " [4.4 3.2 1.3 0.2]\n",
      " [6.7 3.  5.  1.7]\n",
      " [5.6 3.  4.1 1.3]\n",
      " [5.7 2.5 5.  2. ]\n",
      " [6.5 3.  5.8 2.2]\n",
      " [5.  3.6 1.4 0.2]\n",
      " [6.1 2.8 4.  1.3]\n",
      " [6.  3.4 4.5 1.6]\n",
      " [6.7 3.  5.2 2.3]\n",
      " [5.7 4.4 1.5 0.4]\n",
      " [5.4 3.4 1.7 0.2]\n",
      " [5.  3.5 1.3 0.3]\n",
      " [4.8 3.  1.4 0.1]\n",
      " [5.5 4.2 1.4 0.2]\n",
      " [4.6 3.6 1.  0.2]\n",
      " [7.2 3.2 6.  1.8]\n",
      " [5.1 2.5 3.  1.1]\n",
      " [6.4 3.2 4.5 1.5]\n",
      " [7.3 2.9 6.3 1.8]\n",
      " [4.5 2.3 1.3 0.3]\n",
      " [5.  3.  1.6 0.2]\n",
      " [5.7 3.8 1.7 0.3]\n",
      " [5.  3.3 1.4 0.2]\n",
      " [6.2 2.2 4.5 1.5]\n",
      " [5.1 3.5 1.4 0.2]\n",
      " [6.4 2.9 4.3 1.3]\n",
      " [4.9 2.4 3.3 1. ]\n",
      " [6.3 2.5 4.9 1.5]\n",
      " [6.1 2.8 4.7 1.2]\n",
      " [5.9 3.2 4.8 1.8]\n",
      " [5.4 3.9 1.7 0.4]\n",
      " [6.  2.2 4.  1. ]\n",
      " [6.4 2.8 5.6 2.1]\n",
      " [4.8 3.4 1.9 0.2]\n",
      " [6.4 3.1 5.5 1.8]\n",
      " [5.9 3.  4.2 1.5]\n",
      " [6.5 3.  5.5 1.8]\n",
      " [6.  2.9 4.5 1.5]\n",
      " [5.5 2.4 3.8 1.1]\n",
      " [6.2 2.9 4.3 1.3]\n",
      " [5.2 4.1 1.5 0.1]\n",
      " [5.2 3.4 1.4 0.2]\n",
      " [7.7 2.6 6.9 2.3]\n",
      " [5.7 2.6 3.5 1. ]\n",
      " [4.6 3.4 1.4 0.3]\n",
      " [5.8 2.7 4.1 1. ]\n",
      " [5.8 2.7 3.9 1.2]\n",
      " [6.2 3.4 5.4 2.3]\n",
      " [5.9 3.  5.1 1.8]\n",
      " [4.6 3.1 1.5 0.2]\n",
      " [5.8 2.8 5.1 2.4]\n",
      " [5.1 3.5 1.4 0.3]\n",
      " [6.8 3.2 5.9 2.3]\n",
      " [4.9 3.1 1.5 0.1]\n",
      " [5.5 2.3 4.  1.3]\n",
      " [5.1 3.7 1.5 0.4]\n",
      " [5.8 2.7 5.1 1.9]\n",
      " [6.7 3.1 4.4 1.4]\n",
      " [6.8 3.  5.5 2.1]\n",
      " [5.2 2.7 3.9 1.4]\n",
      " [6.7 3.1 5.6 2.4]\n",
      " [5.3 3.7 1.5 0.2]\n",
      " [5.  2.  3.5 1. ]\n",
      " [6.6 2.9 4.6 1.3]\n",
      " [6.  2.7 5.1 1.6]\n",
      " [6.3 2.3 4.4 1.3]\n",
      " [7.7 3.  6.1 2.3]\n",
      " [4.9 3.  1.4 0.2]\n",
      " [4.6 3.2 1.4 0.2]\n",
      " [6.3 2.7 4.9 1.8]\n",
      " [6.6 3.  4.4 1.4]\n",
      " [6.9 3.1 4.9 1.5]\n",
      " [4.3 3.  1.1 0.1]\n",
      " [5.6 2.7 4.2 1.3]\n",
      " [4.8 3.4 1.6 0.2]\n",
      " [7.6 3.  6.6 2.1]\n",
      " [7.7 2.8 6.7 2. ]\n",
      " [4.9 2.5 4.5 1.7]\n",
      " [6.5 3.2 5.1 2. ]\n",
      " [5.1 3.3 1.7 0.5]\n",
      " [6.3 2.9 5.6 1.8]\n",
      " [6.1 2.6 5.6 1.4]\n",
      " [5.  3.4 1.5 0.2]\n",
      " [6.1 3.  4.6 1.4]\n",
      " [5.6 3.  4.5 1.5]\n",
      " [5.1 3.8 1.5 0.3]\n",
      " [5.6 2.8 4.9 2. ]\n",
      " [4.4 3.  1.3 0.2]\n",
      " [5.5 2.4 3.7 1. ]\n",
      " [4.7 3.2 1.6 0.2]\n",
      " [6.7 3.3 5.7 2.5]\n",
      " [5.2 3.5 1.5 0.2]\n",
      " [6.4 2.7 5.3 1.9]\n",
      " [6.3 2.8 5.1 1.5]\n",
      " [4.4 2.9 1.4 0.2]\n",
      " [6.1 3.  4.9 1.8]\n",
      " [4.9 3.1 1.5 0.2]\n",
      " [5.  2.3 3.3 1. ]\n",
      " [4.8 3.  1.4 0.3]\n",
      " [5.8 4.  1.2 0.2]\n",
      " [6.3 3.4 5.6 2.4]\n",
      " [5.4 3.  4.5 1.5]\n",
      " [7.1 3.  5.9 2.1]\n",
      " [6.3 3.3 6.  2.5]\n",
      " [5.1 3.8 1.9 0.4]\n",
      " [6.4 2.8 5.6 2.2]\n",
      " [7.7 3.8 6.7 2.2]]\n",
      "(120, 4)\n"
     ]
    }
   ],
   "source": [
    "dataset_demo()"
   ]
  },
  {
   "cell_type": "markdown",
   "id": "ba78b8c8",
   "metadata": {},
   "source": [
    "### 特征抽取\n",
    "1.实例化类DictVectorizer\n",
    "2.调用fit_transform方法输入数据并转换（注意返回格式）"
   ]
  },
  {
   "cell_type": "code",
   "execution_count": 51,
   "id": "717f4264",
   "metadata": {},
   "outputs": [],
   "source": [
    "from sklearn.feature_extraction import DictVectorizer\n",
    "\n",
    "def dict_demo():\n",
    "    \"\"\"\n",
    "    对字典类型的数据进行特征抽取\n",
    "    \"\"\"\n",
    "    \n",
    "    data = [{'city': '北京','temperature':100}, \n",
    "            {'city': '上海','temperature':60}, \n",
    "            {'city': '深圳','temperature':30}]\n",
    "    # 1、实例化一个转换器类\n",
    "    transfer = DictVectorizer(sparse = False)\n",
    "    # 2、调用fit_transform\n",
    "    data = transfer.fit_transform(data)\n",
    "    print(\"返回的结果:\\n\", data)\n",
    "    # 打印特征名字\n",
    "    print(\"特征名字：\\n\",  transfer.get_feature_names())\n",
    "\n",
    "    return None"
   ]
  },
  {
   "cell_type": "code",
   "execution_count": 52,
   "id": "02bfd180",
   "metadata": {},
   "outputs": [
    {
     "name": "stdout",
     "output_type": "stream",
     "text": [
      "返回的结果:\n",
      " [[  0.   1.   0. 100.]\n",
      " [  1.   0.   0.  60.]\n",
      " [  0.   0.   1.  30.]]\n",
      "特征名字：\n",
      " ['city=上海', 'city=北京', 'city=深圳', 'temperature']\n"
     ]
    }
   ],
   "source": [
    "dict_demo()"
   ]
  },
  {
   "cell_type": "markdown",
   "id": "e6b7206e",
   "metadata": {},
   "source": [
    "### 文本特征提取\n",
    "单词作为特征   句子、短语、单词、字母\n",
    "特征：特征词"
   ]
  },
  {
   "cell_type": "code",
   "execution_count": 53,
   "id": "6d702160",
   "metadata": {},
   "outputs": [],
   "source": [
    "from sklearn.feature_extraction.text import CountVectorizer\n",
    "\n",
    "def text_count_demo():\n",
    "    \"\"\"\n",
    "    对文本进行特征抽取，countvetorizer\n",
    "    :return: None\n",
    "    \"\"\"\n",
    "    data = [\"life is short,i like like python\", \"life is too long,i dislike python\"]\n",
    "    # 1、实例化一个转换器类\n",
    "    #transfer = CountVectorizer(sparse=False)\n",
    "    #transfer = CountVectorizer(stop_words=[\"is\", \"too\"])\n",
    "    transfer = CountVectorizer()\n",
    "    data = transfer.fit_transform(data)\n",
    "    print(\"文本特征抽取的结果：\\n\", data.toarray())\n",
    "    print(\"返回特征名字：\\n\", transfer.get_feature_names())\n",
    "    \n",
    "    return None\n",
    "def text_Chinese_count_demo():\n",
    "    \"\"\"\n",
    "    对文本进行特征抽取，countvetorizer\n",
    "    :return: None\n",
    "    \"\"\"\n",
    "    data = [\"我爱我家\", \"我家太阳升\"]\n",
    "    # 1、实例化一个转换器类\n",
    "    #transfer = CountVectorizer(sparse=False)\n",
    "    transfer = CountVectorizer()\n",
    "    data = transfer.fit_transform(data)\n",
    "    print(\"文本特征抽取的结果：\\n\", data.toarray())\n",
    "    print(\"返回特征名字：\\n\", transfer.get_feature_names())\n",
    "    \n",
    "    return None"
   ]
  },
  {
   "cell_type": "code",
   "execution_count": 54,
   "id": "229d57ee",
   "metadata": {
    "scrolled": true
   },
   "outputs": [
    {
     "name": "stdout",
     "output_type": "stream",
     "text": [
      "文本特征抽取的结果：\n",
      " [[0 1 1 2 0 1 1 0]\n",
      " [1 1 1 0 1 1 0 1]]\n",
      "返回特征名字：\n",
      " ['dislike', 'is', 'life', 'like', 'long', 'python', 'short', 'too']\n"
     ]
    }
   ],
   "source": [
    "text_count_demo()"
   ]
  },
  {
   "cell_type": "code",
   "execution_count": 55,
   "id": "8449b877",
   "metadata": {
    "scrolled": true
   },
   "outputs": [
    {
     "name": "stdout",
     "output_type": "stream",
     "text": [
      "文本特征抽取的结果：\n",
      " [[0 1]\n",
      " [1 0]]\n",
      "返回特征名字：\n",
      " ['我家太阳升', '我爱我家']\n"
     ]
    }
   ],
   "source": [
    "text_Chinese_count_demo()"
   ]
  },
  {
   "cell_type": "markdown",
   "id": "25a33de1",
   "metadata": {},
   "source": [
    "### jieba"
   ]
  },
  {
   "cell_type": "code",
   "execution_count": 56,
   "id": "e8ea8294",
   "metadata": {},
   "outputs": [],
   "source": [
    "from sklearn.feature_extraction.text import CountVectorizer\n",
    "import jieba\n",
    "\n",
    "def cut_word(text):\n",
    "    \"\"\"\n",
    "    对中文进行分词\n",
    "    \"我爱北京天安门\"————>\"我 爱 北京 天安门\"\n",
    "    :param text:\n",
    "    :return: text\n",
    "    \"\"\"\n",
    "    # 用结巴对中文字符串进行分词\n",
    "    text = \" \".join(list(jieba.cut(text)))\n",
    "\n",
    "    return text\n",
    "\n",
    "def text_chinese_count_demo2():\n",
    "    \"\"\"\n",
    "    对中文进行特征抽取\n",
    "    :return: None\n",
    "    \"\"\"\n",
    "    data = [\"一种还是一种今天很残酷，明天更残酷，后天很美好，但绝对大部分是死在明天晚上，所以每个人不要放弃今天。\",\n",
    "            \"我们看到的从很远星系来的光是在几百万年之前发出的，这样当我们看到宇宙时，我们是在看它的过去。\",\n",
    "            \"如果只用一种方式了解某样事物，你就不会真正了解它。了解事物真正含义的秘密取决于如何将其与我们所了解的事物相联系。\"]\n",
    "    # 将原始数据转换成分好词的形式\n",
    "    text_list = []\n",
    "    for sent in data:\n",
    "        text_list.append(cut_word(sent))\n",
    "    print(text_list)\n",
    "    \n",
    "    transfer = CountVectorizer()\n",
    "    \n",
    "    data = transfer.fit_transform(text_list)\n",
    "    \n",
    "    print(data.toarray())\n",
    "    print(transfer.get_feature_names())\n",
    "    \n",
    "    return None\n",
    "    "
   ]
  },
  {
   "cell_type": "code",
   "execution_count": 57,
   "id": "8bfdd2ee",
   "metadata": {
    "collapsed": true
   },
   "outputs": [
    {
     "name": "stderr",
     "output_type": "stream",
     "text": [
      "Building prefix dict from the default dictionary ...\n",
      "Dumping model to file cache C:\\Users\\qjx\\AppData\\Local\\Temp\\jieba.cache\n",
      "Loading model cost 0.818 seconds.\n",
      "Prefix dict has been built successfully.\n"
     ]
    },
    {
     "name": "stdout",
     "output_type": "stream",
     "text": [
      "['一种 还是 一种 今天 很 残酷 ， 明天 更 残酷 ， 后天 很 美好 ， 但 绝对 大部分 是 死 在 明天 晚上 ， 所以 每个 人 不要 放弃 今天 。', '我们 看到 的 从 很 远 星系 来 的 光是在 几百万年 之前 发出 的 ， 这样 当 我们 看到 宇宙 时 ， 我们 是 在 看 它 的 过去 。', '如果 只用 一种 方式 了解 某样 事物 ， 你 就 不会 真正 了解 它 。 了解 事物 真正 含义 的 秘密 取决于 如何 将 其 与 我们 所 了解 的 事物 相 联系 。']\n",
      "[[2 0 1 0 0 0 2 0 0 0 0 0 1 0 1 0 0 0 0 1 1 0 2 0 1 0 2 1 0 0 0 1 1 0 0 1\n",
      "  0]\n",
      " [0 0 0 1 0 0 0 1 1 1 0 0 0 0 0 0 0 1 3 0 0 0 0 1 0 0 0 0 2 0 0 0 0 0 1 0\n",
      "  1]\n",
      " [1 1 0 0 4 3 0 0 0 0 1 1 0 1 0 1 1 0 1 0 0 1 0 0 0 1 0 0 0 2 1 0 0 1 0 0\n",
      "  0]]\n",
      "['一种', '不会', '不要', '之前', '了解', '事物', '今天', '光是在', '几百万年', '发出', '取决于', '只用', '后天', '含义', '大部分', '如何', '如果', '宇宙', '我们', '所以', '放弃', '方式', '明天', '星系', '晚上', '某样', '残酷', '每个', '看到', '真正', '秘密', '绝对', '美好', '联系', '过去', '还是', '这样']\n"
     ]
    }
   ],
   "source": [
    "text_chinese_count_demo2()"
   ]
  },
  {
   "cell_type": "markdown",
   "id": "ac829297",
   "metadata": {},
   "source": [
    "### TF-idf"
   ]
  },
  {
   "cell_type": "code",
   "execution_count": 61,
   "id": "56c5d017",
   "metadata": {},
   "outputs": [],
   "source": [
    "from sklearn.feature_extraction.text import TfidfVectorizer\n",
    "import jieba\n",
    "\n",
    "def cut_word(text):\n",
    "    \n",
    "    return \" \".join(list(jieba.cut(text)))\n",
    "\n",
    "def text_chinese_tfidf_demo():\n",
    "    data = [\"一种还是一种今天很残酷，明天更残酷，后天很美好，但绝对大部分是死在明天晚上，所以每个人不要放弃今天。\",\n",
    "            \"我们看到的从很远星系来的光是在几百万年之前发出的，这样当我们看到宇宙时，我们是在看它的过去。\",\n",
    "            \"如果只用一种方式了解某样事物，你就不会真正了解它。了解事物真正含义的秘密取决于如何将其与我们所了解的事物相联系。\"]\n",
    "    # 将原始数据转换成分好词的形式\n",
    "    text_list = []\n",
    "    \n",
    "    for sent in data:\n",
    "        text_list.append(cut_word(sent))\n",
    "    print(text_list)\n",
    "    \n",
    "    transfer = TfidfVectorizer()\n",
    "    data = transfer.fit_transform(text_list)\n",
    "    \n",
    "    print(data.toarray())\n",
    "    print(transfer.get_feature_names())\n",
    "    \n",
    "    return None"
   ]
  },
  {
   "cell_type": "code",
   "execution_count": 62,
   "id": "be0cd7a1",
   "metadata": {
    "collapsed": true
   },
   "outputs": [
    {
     "name": "stdout",
     "output_type": "stream",
     "text": [
      "['一种 还是 一种 今天 很 残酷 ， 明天 更 残酷 ， 后天 很 美好 ， 但 绝对 大部分 是 死 在 明天 晚上 ， 所以 每个 人 不要 放弃 今天 。', '我们 看到 的 从 很 远 星系 来 的 光是在 几百万年 之前 发出 的 ， 这样 当 我们 看到 宇宙 时 ， 我们 是 在 看 它 的 过去 。', '如果 只用 一种 方式 了解 某样 事物 ， 你 就 不会 真正 了解 它 。 了解 事物 真正 含义 的 秘密 取决于 如何 将 其 与 我们 所 了解 的 事物 相 联系 。']\n",
      "[[0.30847454 0.         0.20280347 0.         0.         0.\n",
      "  0.40560694 0.         0.         0.         0.         0.\n",
      "  0.20280347 0.         0.20280347 0.         0.         0.\n",
      "  0.         0.20280347 0.20280347 0.         0.40560694 0.\n",
      "  0.20280347 0.         0.40560694 0.20280347 0.         0.\n",
      "  0.         0.20280347 0.20280347 0.         0.         0.20280347\n",
      "  0.        ]\n",
      " [0.         0.         0.         0.2410822  0.         0.\n",
      "  0.         0.2410822  0.2410822  0.2410822  0.         0.\n",
      "  0.         0.         0.         0.         0.         0.2410822\n",
      "  0.55004769 0.         0.         0.         0.         0.2410822\n",
      "  0.         0.         0.         0.         0.48216441 0.\n",
      "  0.         0.         0.         0.         0.2410822  0.\n",
      "  0.2410822 ]\n",
      " [0.12001469 0.15780489 0.         0.         0.63121956 0.47341467\n",
      "  0.         0.         0.         0.         0.15780489 0.15780489\n",
      "  0.         0.15780489 0.         0.15780489 0.15780489 0.\n",
      "  0.12001469 0.         0.         0.15780489 0.         0.\n",
      "  0.         0.15780489 0.         0.         0.         0.31560978\n",
      "  0.15780489 0.         0.         0.15780489 0.         0.\n",
      "  0.        ]]\n",
      "['一种', '不会', '不要', '之前', '了解', '事物', '今天', '光是在', '几百万年', '发出', '取决于', '只用', '后天', '含义', '大部分', '如何', '如果', '宇宙', '我们', '所以', '放弃', '方式', '明天', '星系', '晚上', '某样', '残酷', '每个', '看到', '真正', '秘密', '绝对', '美好', '联系', '过去', '还是', '这样']\n"
     ]
    }
   ],
   "source": [
    "text_chinese_tfidf_demo()"
   ]
  },
  {
   "cell_type": "markdown",
   "id": "45876068",
   "metadata": {},
   "source": [
    "### 归一化"
   ]
  },
  {
   "cell_type": "code",
   "execution_count": 89,
   "id": "ece17aaf",
   "metadata": {},
   "outputs": [],
   "source": [
    "import pandas as pd\n",
    "from sklearn.preprocessing import MinMaxScaler\n",
    "\n",
    "def minmaxScaler_demo():\n",
    "    \"\"\"\n",
    "    归一化演示\n",
    "    :return: None\n",
    "    \"\"\"\n",
    "    data = pd.read_csv(\"dataset/dating.txt\", sep = \"\\t\")\n",
    "    \n",
    "    x_data = data.iloc[:, :3]\n",
    "    print(x_data)\n",
    "    \n",
    "    transfer = MinMaxScaler()\n",
    "    data_new = transfer.fit_transform(x_data)\n",
    "    \n",
    "    print(data_new)\n",
    "    return None"
   ]
  },
  {
   "cell_type": "code",
   "execution_count": 90,
   "id": "784210fa",
   "metadata": {
    "collapsed": true
   },
   "outputs": [
    {
     "name": "stdout",
     "output_type": "stream",
     "text": [
      "     milage     Liters   Consumtime \n",
      "0      40920   8.326976     0.953952\n",
      "1      14488   7.153469     1.673904\n",
      "2      26052   1.441871     0.805124\n",
      "3      75136  13.147394     0.428964\n",
      "4      38344   1.669788     0.134296\n",
      "..       ...        ...          ...\n",
      "995    11145   3.410627     0.631838\n",
      "996    68846   9.974715     0.669787\n",
      "997    26575  10.650102     0.866627\n",
      "998    48111   9.134528     0.728045\n",
      "999    43757   7.882601     1.332446\n",
      "\n",
      "[1000 rows x 3 columns]\n",
      "[[0.44832535 0.39805139 0.56233353]\n",
      " [0.15873259 0.34195467 0.98724416]\n",
      " [0.28542943 0.06892523 0.47449629]\n",
      " ...\n",
      " [0.29115949 0.50910294 0.51079493]\n",
      " [0.52711097 0.43665451 0.4290048 ]\n",
      " [0.47940793 0.3768091  0.78571804]]\n"
     ]
    }
   ],
   "source": [
    "minmaxScaler_demo()"
   ]
  },
  {
   "cell_type": "markdown",
   "id": "0e9a0c48",
   "metadata": {},
   "source": [
    "### 标准化"
   ]
  },
  {
   "cell_type": "code",
   "execution_count": 95,
   "id": "50fea889",
   "metadata": {},
   "outputs": [],
   "source": [
    "import pandas as pd\n",
    "from sklearn.preprocessing import StandardScaler\n",
    "\n",
    "def stand_demo():\n",
    "    \"\"\"\n",
    "    标准化演示\n",
    "    :return: None\n",
    "    \"\"\"\n",
    "    data = pd.read_csv(\"dataset/dating.txt\", sep = \"\\t\")\n",
    "    print(data)\n",
    "    \n",
    "    transfer = StandardScaler()\n",
    "    data_standard = transfer.fit_transform(data)\n",
    "    print(data_standard)\n",
    "    print(transfer.mean_)\n",
    "    print(transfer.var_)\n",
    "    "
   ]
  },
  {
   "cell_type": "code",
   "execution_count": 96,
   "id": "399c68a3",
   "metadata": {
    "collapsed": true
   },
   "outputs": [
    {
     "name": "stdout",
     "output_type": "stream",
     "text": [
      "     milage     Liters   Consumtime   target\n",
      "0      40920   8.326976     0.953952       3\n",
      "1      14488   7.153469     1.673904       2\n",
      "2      26052   1.441871     0.805124       1\n",
      "3      75136  13.147394     0.428964       1\n",
      "4      38344   1.669788     0.134296       1\n",
      "..       ...        ...          ...     ...\n",
      "995    11145   3.410627     0.631838       2\n",
      "996    68846   9.974715     0.669787       1\n",
      "997    26575  10.650102     0.866627       3\n",
      "998    48111   9.134528     0.728045       3\n",
      "999    43757   7.882601     1.332446       3\n",
      "\n",
      "[1000 rows x 4 columns]\n",
      "[[ 0.33193158  0.41660188  0.24523407  1.24115502]\n",
      " [-0.87247784  0.13992897  1.69385734  0.01834219]\n",
      " [-0.34554872 -1.20667094 -0.05422437 -1.20447063]\n",
      " ...\n",
      " [-0.32171752  0.96431572  0.06952649  1.24115502]\n",
      " [ 0.65959911  0.60699509 -0.20931587  1.24115502]\n",
      " [ 0.46120328  0.31183342  1.00680598  1.24115502]]\n",
      "[3.36354210e+04 6.55996083e+00 8.32072997e-01 1.98500000e+00]\n",
      "[4.81628039e+08 1.79902874e+01 2.46999554e-01 6.68775000e-01]\n"
     ]
    }
   ],
   "source": [
    "stand_demo()"
   ]
  },
  {
   "cell_type": "markdown",
   "id": "d2b9df94",
   "metadata": {},
   "source": [
    "# 1.降维\n",
    "##  1.1特征选择\n",
    "###   1.1.1过滤式 （主要探究特征本身特点、特征与特征和目标值之间关联）\n",
    "#### 方差选择法：低方差特征过滤"
   ]
  },
  {
   "cell_type": "code",
   "execution_count": null,
   "id": "d2dc6c33",
   "metadata": {},
   "outputs": [],
   "source": []
  },
  {
   "cell_type": "code",
   "execution_count": null,
   "id": "3694d9b3",
   "metadata": {},
   "outputs": [],
   "source": []
  },
  {
   "cell_type": "code",
   "execution_count": 127,
   "id": "69c7aa5a",
   "metadata": {},
   "outputs": [],
   "source": [
    "import pandas as pd\n",
    "from sklearn.feature_selection import VarianceThreshold\n",
    "\n",
    "def variance_demo():\n",
    "    \"\"\"\n",
    "    删除低方差特征——特征选择\n",
    "    :return: None\n",
    "    \"\"\"\n",
    "    data = pd.read_csv(\"dataset/factor_returns.csv\")\n",
    "    print(data)\n",
    "    \n",
    "    transfer = VarianceThreshold(threshold = 20)\n",
    "    \n",
    "    x_data = data.iloc[:, 1:10]\n",
    "    print(x_data)\n",
    "    data_new = transfer.fit_transform(x_data)\n",
    "    \n",
    "    print(data_new)\n",
    "    print(data_new.shape)"
   ]
  },
  {
   "cell_type": "code",
   "execution_count": 128,
   "id": "51d9e5f1",
   "metadata": {
    "collapsed": true
   },
   "outputs": [
    {
     "name": "stdout",
     "output_type": "stream",
     "text": [
      "            index  pe_ratio  pb_ratio    market_cap  \\\n",
      "0     000001.XSHE    5.9572    1.1818  8.525255e+10   \n",
      "1     000002.XSHE    7.0289    1.5880  8.411336e+10   \n",
      "2     000008.XSHE -262.7461    7.0003  5.170455e+08   \n",
      "3     000060.XSHE   16.4760    3.7146  1.968046e+10   \n",
      "4     000069.XSHE   12.5878    2.5616  4.172721e+10   \n",
      "...           ...       ...       ...           ...   \n",
      "2313  601888.XSHG   25.0848    4.2323  2.274800e+10   \n",
      "2314  601901.XSHG   59.4849    1.6392  2.281400e+10   \n",
      "2315  601933.XSHG   39.5523    4.0052  1.702434e+10   \n",
      "2316  601958.XSHG   52.5408    2.4646  3.287910e+10   \n",
      "2317  601989.XSHG   14.2203    1.4103  5.911086e+10   \n",
      "\n",
      "      return_on_asset_net_profit  du_return_on_equity            ev  \\\n",
      "0                         0.8008              14.9403  1.211445e+12   \n",
      "1                         1.6463               7.8656  3.002521e+11   \n",
      "2                        -0.5678              -0.5943  7.705178e+08   \n",
      "3                         5.6036              14.6170  2.800916e+10   \n",
      "4                         2.8729              10.9097  8.124738e+10   \n",
      "...                          ...                  ...           ...   \n",
      "2313                     10.7833              15.4895  2.784450e+10   \n",
      "2314                      1.2960               2.4512  3.810122e+10   \n",
      "2315                      3.3440               8.0679  2.420817e+10   \n",
      "2316                      2.7444               2.9202  3.883803e+10   \n",
      "2317                      2.0383               8.6179  2.020661e+11   \n",
      "\n",
      "      earnings_per_share       revenue  total_expense        date    return  \n",
      "0                 2.0100  2.070140e+10   1.088254e+10  2012-01-31  0.027657  \n",
      "1                 0.3260  2.930837e+10   2.378348e+10  2012-01-31  0.082352  \n",
      "2                -0.0060  1.167983e+07   1.203008e+07  2012-01-31  0.099789  \n",
      "3                 0.3500  9.189387e+09   7.935543e+09  2012-01-31  0.121595  \n",
      "4                 0.2710  8.951453e+09   7.091398e+09  2012-01-31 -0.002681  \n",
      "...                  ...           ...            ...         ...       ...  \n",
      "2313              0.8849  1.148170e+10   1.041419e+10  2012-11-30  0.060727  \n",
      "2314              0.0900  1.731713e+09   1.089783e+09  2012-11-30  0.179148  \n",
      "2315              0.2200  1.789082e+10   1.749295e+10  2012-11-30  0.137134  \n",
      "2316              0.1210  6.465392e+09   6.009007e+09  2012-11-30  0.149167  \n",
      "2317              0.2470  4.509872e+10   4.132842e+10  2012-11-30  0.183629  \n",
      "\n",
      "[2318 rows x 12 columns]\n",
      "      pe_ratio  pb_ratio    market_cap  return_on_asset_net_profit  \\\n",
      "0       5.9572    1.1818  8.525255e+10                      0.8008   \n",
      "1       7.0289    1.5880  8.411336e+10                      1.6463   \n",
      "2    -262.7461    7.0003  5.170455e+08                     -0.5678   \n",
      "3      16.4760    3.7146  1.968046e+10                      5.6036   \n",
      "4      12.5878    2.5616  4.172721e+10                      2.8729   \n",
      "...        ...       ...           ...                         ...   \n",
      "2313   25.0848    4.2323  2.274800e+10                     10.7833   \n",
      "2314   59.4849    1.6392  2.281400e+10                      1.2960   \n",
      "2315   39.5523    4.0052  1.702434e+10                      3.3440   \n",
      "2316   52.5408    2.4646  3.287910e+10                      2.7444   \n",
      "2317   14.2203    1.4103  5.911086e+10                      2.0383   \n",
      "\n",
      "      du_return_on_equity            ev  earnings_per_share       revenue  \\\n",
      "0                 14.9403  1.211445e+12              2.0100  2.070140e+10   \n",
      "1                  7.8656  3.002521e+11              0.3260  2.930837e+10   \n",
      "2                 -0.5943  7.705178e+08             -0.0060  1.167983e+07   \n",
      "3                 14.6170  2.800916e+10              0.3500  9.189387e+09   \n",
      "4                 10.9097  8.124738e+10              0.2710  8.951453e+09   \n",
      "...                   ...           ...                 ...           ...   \n",
      "2313              15.4895  2.784450e+10              0.8849  1.148170e+10   \n",
      "2314               2.4512  3.810122e+10              0.0900  1.731713e+09   \n",
      "2315               8.0679  2.420817e+10              0.2200  1.789082e+10   \n",
      "2316               2.9202  3.883803e+10              0.1210  6.465392e+09   \n",
      "2317               8.6179  2.020661e+11              0.2470  4.509872e+10   \n",
      "\n",
      "      total_expense  \n",
      "0      1.088254e+10  \n",
      "1      2.378348e+10  \n",
      "2      1.203008e+07  \n",
      "3      7.935543e+09  \n",
      "4      7.091398e+09  \n",
      "...             ...  \n",
      "2313   1.041419e+10  \n",
      "2314   1.089783e+09  \n",
      "2315   1.749295e+10  \n",
      "2316   6.009007e+09  \n",
      "2317   4.132842e+10  \n",
      "\n",
      "[2318 rows x 9 columns]\n",
      "[[ 5.95720000e+00  8.52525509e+10  8.00800000e-01 ...  1.21144486e+12\n",
      "   2.07014010e+10  1.08825400e+10]\n",
      " [ 7.02890000e+00  8.41133582e+10  1.64630000e+00 ...  3.00252062e+11\n",
      "   2.93083692e+10  2.37834769e+10]\n",
      " [-2.62746100e+02  5.17045520e+08 -5.67800000e-01 ...  7.70517753e+08\n",
      "   1.16798290e+07  1.20300800e+07]\n",
      " ...\n",
      " [ 3.95523000e+01  1.70243430e+10  3.34400000e+00 ...  2.42081699e+10\n",
      "   1.78908166e+10  1.74929478e+10]\n",
      " [ 5.25408000e+01  3.28790988e+10  2.74440000e+00 ...  3.88380258e+10\n",
      "   6.46539204e+09  6.00900728e+09]\n",
      " [ 1.42203000e+01  5.91108572e+10  2.03830000e+00 ...  2.02066110e+11\n",
      "   4.50987171e+10  4.13284212e+10]]\n",
      "(2318, 7)\n"
     ]
    }
   ],
   "source": [
    "variance_demo()"
   ]
  },
  {
   "attachments": {
    "image.png": {
     "image/png": "[encoded data removed]"
    }
   },
   "cell_type": "markdown",
   "id": "756ca39e",
   "metadata": {},
   "source": [
    "#### 相关系数 皮尔逊相关系数(Pearson Correlation Coefficient)\n",
    "反映变量之间相关关系密切程度的统计指标\n",
    "![image.png](attachment:image.png)"
   ]
  },
  {
   "cell_type": "code",
   "execution_count": 135,
   "id": "9b161fad",
   "metadata": {},
   "outputs": [],
   "source": [
    "import pandas as pd\n",
    "from scipy.stats import pearsonr\n",
    "\n",
    "def pearsonr_demo():\n",
    "    \"\"\"\n",
    "    相关系数计算\n",
    "    :return: None\n",
    "    \"\"\"\n",
    "    data = pd.read_csv(\"dataset/factor_returns.csv\")\n",
    "    #data = data.iloc[:, 1:-2]\n",
    "    #print(data)\n",
    "    \n",
    "#     transfer = VarianceThreshold(threshold=10)\n",
    "    \n",
    "#     data_new = transfer.fit_transform(data)\n",
    "#     print(data_new)\n",
    "#     print(data_new.shape)\n",
    "    \n",
    "#     r = pearsonr(data[\"pe_ratio\"], data[\"pb_ratio\"])\n",
    "\n",
    "\n",
    "    factor = ['pe_ratio', 'pb_ratio', 'market_cap', 'return_on_asset_net_profit', 'du_return_on_equity', 'ev',\n",
    "              'earnings_per_share', 'revenue', 'total_expense']\n",
    "\n",
    "    for i in range(len(factor)):\n",
    "        for j in range(i, len(factor) - 1):\n",
    "            print(\n",
    "                \"指标%s与指标%s之间的相关性大小为%f\" % (factor[i], factor[j + 1], pearsonr(data[factor[i]], data[factor[j + 1]])[0]))\n",
    "\n",
    "    return None\n",
    "    \n",
    "    "
   ]
  },
  {
   "cell_type": "code",
   "execution_count": 136,
   "id": "5a673a70",
   "metadata": {},
   "outputs": [
    {
     "name": "stdout",
     "output_type": "stream",
     "text": [
      "指标pe_ratio与指标pb_ratio之间的相关性大小为-0.004389\n",
      "指标pe_ratio与指标market_cap之间的相关性大小为-0.068861\n",
      "指标pe_ratio与指标return_on_asset_net_profit之间的相关性大小为-0.066009\n",
      "指标pe_ratio与指标du_return_on_equity之间的相关性大小为-0.082364\n",
      "指标pe_ratio与指标ev之间的相关性大小为-0.046159\n",
      "指标pe_ratio与指标earnings_per_share之间的相关性大小为-0.072082\n",
      "指标pe_ratio与指标revenue之间的相关性大小为-0.058693\n",
      "指标pe_ratio与指标total_expense之间的相关性大小为-0.055551\n",
      "指标pb_ratio与指标market_cap之间的相关性大小为0.009336\n",
      "指标pb_ratio与指标return_on_asset_net_profit之间的相关性大小为0.445381\n",
      "指标pb_ratio与指标du_return_on_equity之间的相关性大小为0.291367\n",
      "指标pb_ratio与指标ev之间的相关性大小为-0.183232\n",
      "指标pb_ratio与指标earnings_per_share之间的相关性大小为0.198708\n",
      "指标pb_ratio与指标revenue之间的相关性大小为-0.177671\n",
      "指标pb_ratio与指标total_expense之间的相关性大小为-0.173339\n",
      "指标market_cap与指标return_on_asset_net_profit之间的相关性大小为0.214774\n",
      "指标market_cap与指标du_return_on_equity之间的相关性大小为0.316288\n",
      "指标market_cap与指标ev之间的相关性大小为0.565533\n",
      "指标market_cap与指标earnings_per_share之间的相关性大小为0.524179\n",
      "指标market_cap与指标revenue之间的相关性大小为0.440653\n",
      "指标market_cap与指标total_expense之间的相关性大小为0.386550\n",
      "指标return_on_asset_net_profit与指标du_return_on_equity之间的相关性大小为0.818697\n",
      "指标return_on_asset_net_profit与指标ev之间的相关性大小为-0.101225\n",
      "指标return_on_asset_net_profit与指标earnings_per_share之间的相关性大小为0.635933\n",
      "指标return_on_asset_net_profit与指标revenue之间的相关性大小为0.038582\n",
      "指标return_on_asset_net_profit与指标total_expense之间的相关性大小为0.027014\n",
      "指标du_return_on_equity与指标ev之间的相关性大小为0.118807\n",
      "指标du_return_on_equity与指标earnings_per_share之间的相关性大小为0.651996\n",
      "指标du_return_on_equity与指标revenue之间的相关性大小为0.163214\n",
      "指标du_return_on_equity与指标total_expense之间的相关性大小为0.135412\n",
      "指标ev与指标earnings_per_share之间的相关性大小为0.196033\n",
      "指标ev与指标revenue之间的相关性大小为0.224363\n",
      "指标ev与指标total_expense之间的相关性大小为0.149857\n",
      "指标earnings_per_share与指标revenue之间的相关性大小为0.141473\n",
      "指标earnings_per_share与指标total_expense之间的相关性大小为0.105022\n",
      "指标revenue与指标total_expense之间的相关性大小为0.995845\n"
     ]
    }
   ],
   "source": [
    "pearsonr_demo()"
   ]
  },
  {
   "cell_type": "markdown",
   "id": "dace42cc",
   "metadata": {},
   "source": [
    "## 1.2主成分分析（PCA）\n",
    "\n",
    "定义：高维数据转化为低维数据的过程，在此过程中可能会舍弃原有数据、创造新的变量\n",
    "\n",
    "作用：是数据维数压缩，尽可能降低原数据的维数（复杂度），损失少量信息。\n",
    "\n",
    "应用：回归分析或者聚类分析当中"
   ]
  },
  {
   "cell_type": "code",
   "execution_count": 159,
   "id": "b2e78257",
   "metadata": {},
   "outputs": [],
   "source": [
    "#小栗子\n",
    "from sklearn.decomposition import PCA\n",
    "\n",
    "def pca_demo():\n",
    "    \"\"\"\n",
    "    对数据进行PCA降维\n",
    "    :return: None\n",
    "    \"\"\"\n",
    "    data = [[2,8,4,5], [6,3,0,8], [5,4,9,1]]\n",
    "    \n",
    "    transfer = PCA(n_components = 0.8)\n",
    "    data1 = transfer.fit_transform(data)\n",
    "    print(\"保留90%的信息，降维结果为：\\n\", data1)\n",
    "    \n",
    "    transfer2 = PCA(n_components = 3)\n",
    "    data2 = transfer2.fit_transform(data)\n",
    "    print(\"降维到3维的结果：\\n\", data2)"
   ]
  },
  {
   "cell_type": "code",
   "execution_count": 160,
   "id": "93f156a3",
   "metadata": {},
   "outputs": [
    {
     "name": "stdout",
     "output_type": "stream",
     "text": [
      "保留90%的信息，降维结果为：\n",
      " [[-3.13587302e-16  3.82970843e+00]\n",
      " [-5.74456265e+00 -1.91485422e+00]\n",
      " [ 5.74456265e+00 -1.91485422e+00]]\n",
      "降维到3维的结果：\n",
      " [[-3.13587302e-16  3.82970843e+00  4.59544715e-16]\n",
      " [-5.74456265e+00 -1.91485422e+00  4.59544715e-16]\n",
      " [ 5.74456265e+00 -1.91485422e+00  4.59544715e-16]]\n"
     ]
    }
   ],
   "source": [
    "pca_demo()"
   ]
  },
  {
   "cell_type": "markdown",
   "id": "884e575e",
   "metadata": {},
   "source": [
    "### 案例：探究用户对物品类别的喜好细分降维"
   ]
  },
  {
   "cell_type": "code",
   "execution_count": 167,
   "id": "d7057f8e",
   "metadata": {},
   "outputs": [
    {
     "name": "stdout",
     "output_type": "stream",
     "text": [
      "(206209, 44)\n"
     ]
    }
   ],
   "source": [
    "import pandas as pd\n",
    "from sklearn.decomposition import PCA\n",
    "\n",
    "# 1、获取数据集\n",
    "# ·商品信息- products.csv：\n",
    "# Fields：product_id, product_name, aisle_id, department_id\n",
    "# ·订单与商品信息- order_products__prior.csv：\n",
    "# Fields：order_id, product_id, add_to_cart_order, reordered \n",
    "# ·用户的订单信息- orders.csv：\n",
    "# Fields：order_id, user_id,eval_set, order_number,order_dow, order_hour_of_day, days_since_prior_order \n",
    "# ·商品所属具体物品类别- aisles.csv：\n",
    "# Fields：aisle_id, aisle     \n",
    "products = pd.read_csv(\"./dataset/instacart/products.csv\")\n",
    "order_products = pd.read_csv(\"./dataset/instacart/order_products__prior.csv\")\n",
    "orders = pd.read_csv(\"./dataset/instacart/orders.csv\")\n",
    "aisles = pd.read_csv(\"./dataset/instacart/aisles.csv\")\n",
    "\n",
    "# 2、合并表，将user_id和aisle放在一张表上\n",
    "# 1）合并orders和order_products on=order_id tab1:order_id, product_id, user_id\n",
    "tab1 = pd.merge(orders, order_products, on=[\"order_id\", \"order_id\"])\n",
    "#print(tab1)\n",
    "\n",
    "# 2）合并tab1和products on=product_id tab2:aisle_id\n",
    "tab2 = pd.merge(tab1, products, on=[\"product_id\", \"product_id\"])\n",
    "#print(tab2)\n",
    "\n",
    "# 3）合并tab2和aisles on=aisle_id tab3:user_id, aisle\n",
    "tab3 = pd.merge(tab2, aisles, on=[\"aisle_id\", \"aisle_id\"])\n",
    "#print(tab3)\n",
    "\n",
    "# 3、交叉表处理，把user_id和aisle进行分组\n",
    "table = pd.crosstab(tab3[\"user_id\"], tab3[\"aisle\"])\n",
    "\n",
    "# 4、主成分分析的方法进行降维\n",
    "transfer = PCA(n_components = 0.95)\n",
    "data = transfer.fit_transform(table)\n",
    "\n",
    "print(data.shape)"
   ]
  },
  {
   "cell_type": "markdown",
   "id": "bb5b33b1",
   "metadata": {},
   "source": []
  },
  {
   "cell_type": "code",
   "execution_count": null,
   "id": "1ad09278",
   "metadata": {},
   "outputs": [],
   "source": []
  },
  {
   "cell_type": "code",
   "execution_count": null,
   "id": "a4bd6dc4",
   "metadata": {},
   "outputs": [],
   "source": []
  },
  {
   "cell_type": "code",
   "execution_count": null,
   "id": "2072b808",
   "metadata": {},
   "outputs": [],
   "source": []
  },
  {
   "cell_type": "code",
   "execution_count": null,
   "id": "c6d8074b",
   "metadata": {},
   "outputs": [],
   "source": []
  },
  {
   "cell_type": "code",
   "execution_count": null,
   "id": "138ce453",
   "metadata": {},
   "outputs": [],
   "source": []
  },
  {
   "cell_type": "code",
   "execution_count": null,
   "id": "672895ec",
   "metadata": {},
   "outputs": [],
   "source": []
  },
  {
   "cell_type": "code",
   "execution_count": null,
   "id": "dad0e38f",
   "metadata": {},
   "outputs": [],
   "source": []
  }
 ],
 "metadata": {
  "kernelspec": {
   "display_name": "Python 3 (ipykernel)",
   "language": "python",
   "name": "python3"
  },
  "language_info": {
   "codemirror_mode": {
    "name": "ipython",
    "version": 3
   },
   "file_extension": ".py",
   "mimetype": "text/x-python",
   "name": "python",
   "nbconvert_exporter": "python",
   "pygments_lexer": "ipython3",
   "version": "3.9.7"
  }
 },
 "nbformat": 4,
 "nbformat_minor": 5
}
